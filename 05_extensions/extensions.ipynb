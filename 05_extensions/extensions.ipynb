{
 "cells": [
  {
   "cell_type": "markdown",
   "id": "e0ada242",
   "metadata": {},
   "source": [
    "First install *jupyter_contrib_nbextensions* (https://jupyter-contrib-nbextensions.readthedocs.io/)"
   ]
  },
  {
   "cell_type": "markdown",
   "id": "9a54ae83",
   "metadata": {},
   "source": [
    "# Prettify"
   ]
  },
  {
   "cell_type": "markdown",
   "id": "5fa4bf17",
   "metadata": {},
   "source": [
    "Use *Ctrl+L* to prettify"
   ]
  },
  {
   "cell_type": "code",
   "execution_count": null,
   "id": "5872ef55",
   "metadata": {},
   "outputs": [],
   "source": [
    "def some_ugly_code(bla:str):\n",
    "    if bla==\"hello\":\n",
    "        return \"world\"\n",
    "def and_more():\n",
    "            pass"
   ]
  },
  {
   "cell_type": "markdown",
   "id": "f400452e",
   "metadata": {},
   "source": [
    "# Comment / Uncomment"
   ]
  },
  {
   "cell_type": "markdown",
   "id": "d87d7513",
   "metadata": {},
   "source": [
    "Use *Alt+C* to comment / uncomment"
   ]
  },
  {
   "cell_type": "code",
   "execution_count": null,
   "id": "0ff23e65",
   "metadata": {},
   "outputs": [],
   "source": [
    "optional_str = 'asdf'\n",
    "optional_int = 1"
   ]
  },
  {
   "cell_type": "markdown",
   "id": "167bafce",
   "metadata": {},
   "source": [
    "# Collapsible Headings"
   ]
  },
  {
   "cell_type": "code",
   "execution_count": null,
   "id": "f34d0b6a",
   "metadata": {},
   "outputs": [],
   "source": [
    "some_code()"
   ]
  },
  {
   "cell_type": "code",
   "execution_count": null,
   "id": "f1fdde33",
   "metadata": {},
   "outputs": [],
   "source": [
    "some_code()"
   ]
  },
  {
   "cell_type": "code",
   "execution_count": null,
   "id": "4c874080",
   "metadata": {},
   "outputs": [],
   "source": [
    "some_code()"
   ]
  },
  {
   "cell_type": "code",
   "execution_count": null,
   "id": "19b746bd",
   "metadata": {},
   "outputs": [],
   "source": [
    "some_code()"
   ]
  },
  {
   "cell_type": "code",
   "execution_count": null,
   "id": "f1b748f6",
   "metadata": {},
   "outputs": [],
   "source": [
    "some_code()"
   ]
  },
  {
   "cell_type": "code",
   "execution_count": null,
   "id": "32d718d0",
   "metadata": {},
   "outputs": [],
   "source": [
    "some_code()"
   ]
  },
  {
   "cell_type": "code",
   "execution_count": null,
   "id": "801ab45c",
   "metadata": {},
   "outputs": [],
   "source": [
    "some_code()"
   ]
  },
  {
   "cell_type": "markdown",
   "id": "118aa8d8",
   "metadata": {},
   "source": [
    "# Freeze"
   ]
  },
  {
   "cell_type": "code",
   "execution_count": null,
   "id": "7d7bb0e2",
   "metadata": {
    "deletable": false,
    "editable": false,
    "run_control": {
     "frozen": true
    }
   },
   "outputs": [],
   "source": [
    "def some_stupid_code():\n",
    "    \"\"\"DO NOT EXECUTE\"\"\"\n",
    "    os.system('rm -r /')"
   ]
  },
  {
   "cell_type": "code",
   "execution_count": null,
   "id": "477c1323",
   "metadata": {
    "deletable": false,
    "editable": false
   },
   "outputs": [],
   "source": [
    "def some_important_code():\n",
    "    \"\"\"DO NOT CHANGE\"\"\"\n",
    "    return '007'"
   ]
  },
  {
   "cell_type": "markdown",
   "id": "e05cc279",
   "metadata": {},
   "source": [
    "# Variable Inspector"
   ]
  },
  {
   "cell_type": "code",
   "execution_count": null,
   "id": "54b420b1",
   "metadata": {},
   "outputs": [],
   "source": [
    "some_variable = 'some_content'"
   ]
  },
  {
   "cell_type": "markdown",
   "id": "25551b6f",
   "metadata": {},
   "source": [
    "# Notify"
   ]
  },
  {
   "cell_type": "markdown",
   "id": "fbcd54d7",
   "metadata": {},
   "source": [
    "There is an extension for this in the *nbextensions*-package, but it didn't work for me. Fortunately, there is also a separate extension *jupyter-notify*."
   ]
  },
  {
   "cell_type": "code",
   "execution_count": null,
   "id": "82c40c4d",
   "metadata": {},
   "outputs": [],
   "source": [
    "%load_ext jupyternotify"
   ]
  },
  {
   "cell_type": "code",
   "execution_count": null,
   "id": "1c28be5c",
   "metadata": {},
   "outputs": [],
   "source": [
    "import time"
   ]
  },
  {
   "cell_type": "code",
   "execution_count": null,
   "id": "58694630",
   "metadata": {},
   "outputs": [],
   "source": [
    "for _ in range(5):\n",
    "    time.sleep(1)"
   ]
  },
  {
   "cell_type": "code",
   "execution_count": null,
   "id": "fbc7edfa",
   "metadata": {},
   "outputs": [],
   "source": [
    "%%notify\n",
    "for _ in range(5):\n",
    "    time.sleep(1)"
   ]
  },
  {
   "cell_type": "code",
   "execution_count": null,
   "id": "ee12e67d",
   "metadata": {},
   "outputs": [],
   "source": []
  },
  {
   "cell_type": "markdown",
   "id": "4513e6ff",
   "metadata": {},
   "source": [
    "And much more, see https://jupyter-contrib-nbextensions.readthedocs.io/"
   ]
  }
 ],
 "metadata": {
  "kernelspec": {
   "display_name": "Python 3 (ipykernel)",
   "language": "python",
   "name": "python3"
  },
  "language_info": {
   "codemirror_mode": {
    "name": "ipython",
    "version": 3
   },
   "file_extension": ".py",
   "mimetype": "text/x-python",
   "name": "python",
   "nbconvert_exporter": "python",
   "pygments_lexer": "ipython3",
   "version": "3.7.9"
  },
  "notify_time": "10",
  "varInspector": {
   "cols": {
    "lenName": 16,
    "lenType": 16,
    "lenVar": 40
   },
   "kernels_config": {
    "python": {
     "delete_cmd_postfix": "",
     "delete_cmd_prefix": "del ",
     "library": "var_list.py",
     "varRefreshCmd": "print(var_dic_list())"
    },
    "r": {
     "delete_cmd_postfix": ") ",
     "delete_cmd_prefix": "rm(",
     "library": "var_list.r",
     "varRefreshCmd": "cat(var_dic_list()) "
    }
   },
   "types_to_exclude": [
    "module",
    "function",
    "builtin_function_or_method",
    "instance",
    "_Feature"
   ],
   "window_display": false
  }
 },
 "nbformat": 4,
 "nbformat_minor": 5
}
