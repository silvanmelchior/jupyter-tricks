{
 "cells": [
  {
   "cell_type": "markdown",
   "id": "5644ef08",
   "metadata": {},
   "source": [
    "# List Commands"
   ]
  },
  {
   "cell_type": "code",
   "execution_count": null,
   "id": "bdf9d81d",
   "metadata": {},
   "outputs": [],
   "source": [
    "%lsmagic"
   ]
  },
  {
   "cell_type": "markdown",
   "id": "90518dc3",
   "metadata": {},
   "source": [
    "# External Code"
   ]
  },
  {
   "cell_type": "code",
   "execution_count": null,
   "id": "fd6bc7b9",
   "metadata": {},
   "outputs": [],
   "source": [
    "%run _test.py"
   ]
  },
  {
   "cell_type": "code",
   "execution_count": null,
   "id": "1b2a46b4",
   "metadata": {},
   "outputs": [],
   "source": [
    "secret"
   ]
  },
  {
   "cell_type": "code",
   "execution_count": null,
   "id": "dea4e489",
   "metadata": {},
   "outputs": [],
   "source": [
    "%run _test.ipynb"
   ]
  },
  {
   "cell_type": "code",
   "execution_count": null,
   "id": "e0128da4",
   "metadata": {},
   "outputs": [],
   "source": [
    "%load _test2.py"
   ]
  },
  {
   "cell_type": "code",
   "execution_count": null,
   "id": "e1d4c298",
   "metadata": {},
   "outputs": [],
   "source": [
    "some_shared_fn('hello world')"
   ]
  },
  {
   "cell_type": "markdown",
   "id": "ea61bef4",
   "metadata": {},
   "source": [
    "**Hint:** Of course all of this should only be used in special situations. The recommended way is still to outsource commonly used code into a separate package and import it with standard python mechanisms."
   ]
  },
  {
   "cell_type": "markdown",
   "id": "e5e2cf00",
   "metadata": {},
   "source": [
    "# Pass Variables Between Notebooks"
   ]
  },
  {
   "cell_type": "code",
   "execution_count": null,
   "id": "1346ce99",
   "metadata": {},
   "outputs": [],
   "source": [
    "data = {\n",
    "    'a': 'sth complex',\n",
    "    'b': 'even more complex'\n",
    "}"
   ]
  },
  {
   "cell_type": "code",
   "execution_count": null,
   "id": "cdb57323",
   "metadata": {},
   "outputs": [],
   "source": [
    "%store data"
   ]
  },
  {
   "cell_type": "markdown",
   "id": "f6ea9a8e",
   "metadata": {},
   "source": [
    "# Global Scope Overview"
   ]
  },
  {
   "cell_type": "code",
   "execution_count": null,
   "id": "9cd0999d",
   "metadata": {},
   "outputs": [],
   "source": [
    "%who"
   ]
  },
  {
   "cell_type": "code",
   "execution_count": null,
   "id": "66c0c959",
   "metadata": {},
   "outputs": [],
   "source": [
    "%who str"
   ]
  },
  {
   "cell_type": "markdown",
   "id": "fc5c8eb3",
   "metadata": {},
   "source": [
    "# Simple Timers"
   ]
  },
  {
   "cell_type": "code",
   "execution_count": null,
   "id": "1e0d55ae",
   "metadata": {},
   "outputs": [],
   "source": [
    "import time"
   ]
  },
  {
   "cell_type": "code",
   "execution_count": null,
   "id": "26b33f4e",
   "metadata": {},
   "outputs": [],
   "source": [
    "def slow_fn():\n",
    "    for _ in range(10):\n",
    "        time.sleep(0.01)"
   ]
  },
  {
   "cell_type": "code",
   "execution_count": null,
   "id": "0715e44c",
   "metadata": {},
   "outputs": [],
   "source": [
    "%%time\n",
    "slow_fn()"
   ]
  },
  {
   "cell_type": "code",
   "execution_count": null,
   "id": "d1b4ae3a",
   "metadata": {},
   "outputs": [],
   "source": [
    "%prun slow_fn()"
   ]
  },
  {
   "cell_type": "code",
   "execution_count": null,
   "id": "85973e40",
   "metadata": {},
   "outputs": [],
   "source": [
    "import numpy"
   ]
  },
  {
   "cell_type": "code",
   "execution_count": null,
   "id": "1987a898",
   "metadata": {},
   "outputs": [],
   "source": [
    "%%time\n",
    "numpy.random.normal(size=100)"
   ]
  },
  {
   "cell_type": "code",
   "execution_count": null,
   "id": "5b8b0cf9",
   "metadata": {},
   "outputs": [],
   "source": [
    "%timeit numpy.random.normal(size=100)"
   ]
  },
  {
   "cell_type": "markdown",
   "id": "2a74d5e3",
   "metadata": {},
   "source": [
    "# Quickly Show and Dump Data"
   ]
  },
  {
   "cell_type": "code",
   "execution_count": null,
   "id": "87ddbe7d",
   "metadata": {},
   "outputs": [],
   "source": [
    "%%writefile function.py\n",
    "def some_function():\n",
    "    print(\"I'm too lazy to open a separate editor\")"
   ]
  },
  {
   "cell_type": "code",
   "execution_count": null,
   "id": "c551f77e",
   "metadata": {},
   "outputs": [],
   "source": [
    "%pycat function.py"
   ]
  },
  {
   "cell_type": "code",
   "execution_count": null,
   "id": "a20cd12f",
   "metadata": {},
   "outputs": [],
   "source": [
    "%page data"
   ]
  },
  {
   "cell_type": "code",
   "execution_count": null,
   "id": "c0eafd52",
   "metadata": {},
   "outputs": [],
   "source": []
  }
 ],
 "metadata": {
  "kernelspec": {
   "display_name": "Python 3 (ipykernel)",
   "language": "python",
   "name": "python3"
  },
  "language_info": {
   "codemirror_mode": {
    "name": "ipython",
    "version": 3
   },
   "file_extension": ".py",
   "mimetype": "text/x-python",
   "name": "python",
   "nbconvert_exporter": "python",
   "pygments_lexer": "ipython3",
   "version": "3.7.9"
  }
 },
 "nbformat": 4,
 "nbformat_minor": 5
}
