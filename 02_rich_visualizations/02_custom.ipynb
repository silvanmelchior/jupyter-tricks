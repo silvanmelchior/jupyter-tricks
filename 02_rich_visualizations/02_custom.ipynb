{
 "cells": [
  {
   "cell_type": "markdown",
   "id": "5f7372c1",
   "metadata": {},
   "source": [
    "# Raw Classes"
   ]
  },
  {
   "cell_type": "code",
   "execution_count": null,
   "id": "eea787d4",
   "metadata": {},
   "outputs": [],
   "source": [
    "class TestRepr(object):\n",
    "    def __init__(self, text):\n",
    "        self.text = text\n",
    "\n",
    "test = TestRepr('Hello World')\n",
    "test"
   ]
  },
  {
   "cell_type": "markdown",
   "id": "e7cf7e98",
   "metadata": {},
   "source": [
    "# Python Representation"
   ]
  },
  {
   "cell_type": "code",
   "execution_count": null,
   "id": "0b9b16d8",
   "metadata": {},
   "outputs": [],
   "source": [
    "class TestRepr2(object):\n",
    "    def __init__(self, text):\n",
    "        self.text = text\n",
    "\n",
    "    def __repr__(self):\n",
    "        return self.text\n",
    "\n",
    "test = TestRepr2('Hello World')\n",
    "test"
   ]
  },
  {
   "cell_type": "markdown",
   "id": "f1e17e6c",
   "metadata": {},
   "source": [
    "# HTML"
   ]
  },
  {
   "cell_type": "code",
   "execution_count": null,
   "id": "e6f9cc69",
   "metadata": {},
   "outputs": [],
   "source": [
    "class TestRepr3(object):\n",
    "    def __init__(self, text):\n",
    "        self.text = text\n",
    "\n",
    "    def _repr_html_(self):\n",
    "        return f'<b>Test</b> (text=\"{self.text}\")'\n",
    "\n",
    "test = TestRepr3('Hello World')\n",
    "test"
   ]
  },
  {
   "cell_type": "markdown",
   "id": "acd9226a",
   "metadata": {},
   "source": [
    "# Adding CSS"
   ]
  },
  {
   "cell_type": "code",
   "execution_count": null,
   "id": "25f87136",
   "metadata": {},
   "outputs": [],
   "source": [
    "class ProgressBar(object):\n",
    "    def __init__(self, progress):\n",
    "        self.progress = progress\n",
    "\n",
    "    def _repr_html_(self):\n",
    "        style = f\"\"\"\n",
    "            .outer {{\n",
    "                height: 24px;\n",
    "                border: 1px black solid;\n",
    "            }}\n",
    "            .inner {{\n",
    "                width: {self.progress * 100}%;\n",
    "                height: 100%;\n",
    "                background-color: black;\n",
    "                color: white;\n",
    "                padding-left: 5px;\n",
    "            }}\n",
    "        \"\"\"\n",
    "        html = f\"\"\"\n",
    "            <div class=\"outer\">\n",
    "                <div class=\"inner\">\n",
    "                    {self.progress * 100} %\n",
    "                </div>\n",
    "            </div>\n",
    "        \"\"\"\n",
    "        return f'<style>{style}</style>{html}'\n",
    "\n",
    "bar = ProgressBar(0.75)\n",
    "bar"
   ]
  },
  {
   "cell_type": "markdown",
   "id": "62637ce1",
   "metadata": {},
   "source": [
    "# Adding JS"
   ]
  },
  {
   "cell_type": "code",
   "execution_count": null,
   "id": "f2b26d70",
   "metadata": {},
   "outputs": [],
   "source": [
    "import uuid"
   ]
  },
  {
   "cell_type": "code",
   "execution_count": null,
   "id": "1c1445af",
   "metadata": {},
   "outputs": [],
   "source": [
    "class DynamicProgressBar(object):\n",
    "    def __init__(self, progress):\n",
    "        self.progress = progress\n",
    "        self.displayed = False\n",
    "        self.uuid = str(uuid.uuid1())\n",
    "    \n",
    "    def display_init(self):\n",
    "        style = f\"\"\"\n",
    "            .outer{self.uuid} {{\n",
    "                height: 24px;\n",
    "                border: 1px black solid;\n",
    "            }}\n",
    "            .inner{self.uuid} {{\n",
    "                width: {self.progress * 100}%;\n",
    "                height: 100%;\n",
    "                background-color: black;\n",
    "                color: white;\n",
    "                padding-left: 5px;\n",
    "                overflow: hidden;\n",
    "                transition: width 5s;\n",
    "            }}\n",
    "        \"\"\"\n",
    "        html = f\"\"\"\n",
    "            <div class=\"outer{self.uuid}\">\n",
    "                <div class=\"inner{self.uuid}\" id=\"progress_bar{self.uuid}\">\n",
    "                    {self.progress * 100} %\n",
    "                </div>\n",
    "            </div>\n",
    "        \"\"\"\n",
    "        return f'<style>{style}</style>{html}'\n",
    "    \n",
    "    def display_update(self):\n",
    "        js = f\"\"\"\n",
    "            document.getElementById(\"progress_bar{self.uuid}\").style.width =\n",
    "                    \"{self.progress*100}%\";\n",
    "            document.getElementById(\"progress_bar{self.uuid}\").innerText =\n",
    "                    \"{self.progress*100}%\";\n",
    "        \"\"\"\n",
    "        return f\"<script>{js}</script>\"\n",
    "    \n",
    "    def _repr_html_(self):\n",
    "        if not self.displayed:\n",
    "            self.displayed = True\n",
    "            return self.display_init()\n",
    "        else:\n",
    "            return self.display_update()\n",
    "    \n",
    "    def set_progress(self, progress):\n",
    "        self.progress = progress\n",
    "        return self"
   ]
  },
  {
   "cell_type": "code",
   "execution_count": null,
   "id": "2e2387b7",
   "metadata": {},
   "outputs": [],
   "source": [
    "bar = DynamicProgressBar(0.25)"
   ]
  },
  {
   "cell_type": "code",
   "execution_count": null,
   "id": "be183981",
   "metadata": {},
   "outputs": [],
   "source": [
    "bar"
   ]
  },
  {
   "cell_type": "code",
   "execution_count": null,
   "id": "24df4fbb",
   "metadata": {},
   "outputs": [],
   "source": [
    "bar.set_progress(0.75)"
   ]
  },
  {
   "cell_type": "markdown",
   "id": "e7693ff6",
   "metadata": {},
   "source": [
    "# Appendix"
   ]
  },
  {
   "cell_type": "markdown",
   "id": "08b8fe40",
   "metadata": {},
   "source": [
    "Can also use:\n",
    "* _repr_json()\n",
    "* _repr_jpeg()\n",
    "* _repr_png()\n",
    "* _repr_svg()\n",
    "* _repr_latex()"
   ]
  },
  {
   "cell_type": "markdown",
   "id": "ce9fc422",
   "metadata": {},
   "source": [
    "And there is even more: _IPython.display._\n",
    "* Audio\n",
    "* FileLink\n",
    "* IFrame\n",
    "* Image\n",
    "* YouTubeVideo\n",
    "* ..."
   ]
  },
  {
   "cell_type": "code",
   "execution_count": null,
   "id": "a5b595bb",
   "metadata": {},
   "outputs": [],
   "source": []
  }
 ],
 "metadata": {
  "kernelspec": {
   "display_name": "Python 3 (ipykernel)",
   "language": "python",
   "name": "python3"
  },
  "language_info": {
   "codemirror_mode": {
    "name": "ipython",
    "version": 3
   },
   "file_extension": ".py",
   "mimetype": "text/x-python",
   "name": "python",
   "nbconvert_exporter": "python",
   "pygments_lexer": "ipython3",
   "version": "3.7.9"
  }
 },
 "nbformat": 4,
 "nbformat_minor": 5
}
