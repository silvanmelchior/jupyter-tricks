{
 "cells": [
  {
   "cell_type": "code",
   "execution_count": null,
   "id": "374bed38",
   "metadata": {},
   "outputs": [],
   "source": [
    "import numpy as np\n",
    "import matplotlib.pyplot as plt"
   ]
  },
  {
   "cell_type": "markdown",
   "id": "0d19d8b6",
   "metadata": {},
   "source": [
    "# Standard Usage"
   ]
  },
  {
   "cell_type": "code",
   "execution_count": null,
   "id": "35ea460a",
   "metadata": {},
   "outputs": [],
   "source": [
    "x_data = np.linspace(-1, 1, 10000)\n",
    "y_data = np.sin(1. / x_data)"
   ]
  },
  {
   "cell_type": "code",
   "execution_count": null,
   "id": "d38681be",
   "metadata": {},
   "outputs": [],
   "source": [
    "plt.plot(x_data, y_data);"
   ]
  },
  {
   "cell_type": "markdown",
   "id": "17b810a1",
   "metadata": {},
   "source": [
    "# Interactive Usage"
   ]
  },
  {
   "cell_type": "code",
   "execution_count": null,
   "id": "ecee8df1",
   "metadata": {},
   "outputs": [],
   "source": [
    "%matplotlib notebook"
   ]
  },
  {
   "cell_type": "code",
   "execution_count": null,
   "id": "7feeedd1",
   "metadata": {},
   "outputs": [],
   "source": [
    "plt.plot(x_data, y_data);"
   ]
  },
  {
   "cell_type": "markdown",
   "id": "fe49bbb9",
   "metadata": {},
   "source": [
    "# Clickhandler"
   ]
  },
  {
   "cell_type": "code",
   "execution_count": null,
   "id": "6d2c3e60",
   "metadata": {},
   "outputs": [],
   "source": [
    "fig, ax = plt.subplots()\n",
    "ax.plot(x_data, y_data)\n",
    "\n",
    "points = []\n",
    "def onclick(event):\n",
    "    ax.plot([event.xdata], [event.ydata], 'rx')\n",
    "    points.append((event.xdata, event.ydata))\n",
    "\n",
    "fig.canvas.mpl_connect('button_press_event', onclick)\n",
    "plt.show(block=True)"
   ]
  },
  {
   "cell_type": "code",
   "execution_count": null,
   "id": "9b863311",
   "metadata": {},
   "outputs": [],
   "source": [
    "points"
   ]
  },
  {
   "cell_type": "markdown",
   "id": "1af6f2e1",
   "metadata": {},
   "source": [
    "# FuncAnimation"
   ]
  },
  {
   "cell_type": "code",
   "execution_count": null,
   "id": "01990d00",
   "metadata": {},
   "outputs": [],
   "source": [
    "from matplotlib.animation import FuncAnimation"
   ]
  },
  {
   "cell_type": "code",
   "execution_count": null,
   "id": "a98920e7",
   "metadata": {},
   "outputs": [],
   "source": [
    "fig, ax = plt.subplots()\n",
    "line, = ax.plot([])\n",
    "ax.set_xlim(-1, 1)\n",
    "ax.set_ylim(-1.1, 1.1)\n",
    "\n",
    "def animate(frame_num):\n",
    "    y_data = np.sin(1. / x_data * frame_num/10)\n",
    "    line.set_data((x_data, y_data))\n",
    "\n",
    "anim = FuncAnimation(fig, animate, frames=100, interval=20)\n",
    "plt.show()"
   ]
  },
  {
   "cell_type": "code",
   "execution_count": null,
   "id": "68fc7c43",
   "metadata": {},
   "outputs": [],
   "source": []
  }
 ],
 "metadata": {
  "kernelspec": {
   "display_name": "Python 3 (ipykernel)",
   "language": "python",
   "name": "python3"
  },
  "language_info": {
   "codemirror_mode": {
    "name": "ipython",
    "version": 3
   },
   "file_extension": ".py",
   "mimetype": "text/x-python",
   "name": "python",
   "nbconvert_exporter": "python",
   "pygments_lexer": "ipython3",
   "version": "3.7.9"
  }
 },
 "nbformat": 4,
 "nbformat_minor": 5
}
