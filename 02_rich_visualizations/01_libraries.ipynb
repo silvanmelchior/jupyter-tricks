{
 "cells": [
  {
   "cell_type": "markdown",
   "id": "63d522d5",
   "metadata": {},
   "source": [
    "# Pandas"
   ]
  },
  {
   "cell_type": "code",
   "execution_count": null,
   "id": "8868fd3a",
   "metadata": {},
   "outputs": [],
   "source": [
    "import pandas as pd"
   ]
  },
  {
   "cell_type": "code",
   "execution_count": null,
   "id": "7d461dfc",
   "metadata": {},
   "outputs": [],
   "source": [
    "pd.DataFrame({'some_data': [1, 2, 3], 'more_data': ['x', 'y', 'z']})"
   ]
  },
  {
   "cell_type": "markdown",
   "id": "39d2cb1e",
   "metadata": {},
   "source": [
    "# NetworkX"
   ]
  },
  {
   "cell_type": "code",
   "execution_count": null,
   "id": "6f69d3db",
   "metadata": {},
   "outputs": [],
   "source": [
    "import networkx as nx\n",
    "import matplotlib.pyplot as plt"
   ]
  },
  {
   "cell_type": "code",
   "execution_count": null,
   "id": "ed8d24b7",
   "metadata": {},
   "outputs": [],
   "source": [
    "nx.draw(nx.petersen_graph())"
   ]
  },
  {
   "cell_type": "markdown",
   "id": "8b73cd26",
   "metadata": {},
   "source": [
    "# Shapely"
   ]
  },
  {
   "cell_type": "code",
   "execution_count": null,
   "id": "33f51085",
   "metadata": {},
   "outputs": [],
   "source": [
    "from shapely.geometry import Polygon"
   ]
  },
  {
   "cell_type": "code",
   "execution_count": null,
   "id": "0b64e1b0",
   "metadata": {},
   "outputs": [],
   "source": [
    "Polygon([(0, 0), (0, 1), (1, 0)])"
   ]
  },
  {
   "cell_type": "markdown",
   "id": "8171d2b8",
   "metadata": {},
   "source": [
    "# SymPy"
   ]
  },
  {
   "cell_type": "code",
   "execution_count": null,
   "id": "fec7b702",
   "metadata": {},
   "outputs": [],
   "source": [
    "import sympy"
   ]
  },
  {
   "cell_type": "code",
   "execution_count": null,
   "id": "0f7abf56",
   "metadata": {},
   "outputs": [],
   "source": [
    "x = sympy.Symbol('x')\n",
    "sympy.Integral(sympy.sin(x**2) / x)"
   ]
  },
  {
   "cell_type": "markdown",
   "id": "0760e249",
   "metadata": {},
   "source": [
    "# ipyleaflet"
   ]
  },
  {
   "cell_type": "code",
   "execution_count": null,
   "id": "8e5bc1bc",
   "metadata": {},
   "outputs": [],
   "source": [
    "from ipyleaflet import Map, basemaps, basemap_to_tiles"
   ]
  },
  {
   "cell_type": "code",
   "execution_count": null,
   "id": "4e98f123",
   "metadata": {},
   "outputs": [],
   "source": [
    "m = Map(\n",
    "    basemap=basemap_to_tiles(basemaps.NASAGIBS.ModisTerraTrueColorCR, \"2017-04-08\"),\n",
    "    center=(52.204793, 360.121558),\n",
    "    zoom=4\n",
    ")\n",
    "\n",
    "m"
   ]
  },
  {
   "cell_type": "markdown",
   "id": "bb8140e2",
   "metadata": {},
   "source": [
    "# Appendix"
   ]
  },
  {
   "cell_type": "markdown",
   "id": "01a05686",
   "metadata": {},
   "source": [
    "There is more:\n",
    "* Iris\n",
    "* Logs\n",
    "* Xarray\n",
    "* Snakeviz\n",
    "* PyMC3\n",
    "* Bokeh\n",
    "* Altair\n",
    "* ..."
   ]
  },
  {
   "cell_type": "code",
   "execution_count": null,
   "id": "95ff3fd9",
   "metadata": {},
   "outputs": [],
   "source": []
  }
 ],
 "metadata": {
  "kernelspec": {
   "display_name": "Python 3 (ipykernel)",
   "language": "python",
   "name": "python3"
  },
  "language_info": {
   "codemirror_mode": {
    "name": "ipython",
    "version": 3
   },
   "file_extension": ".py",
   "mimetype": "text/x-python",
   "name": "python",
   "nbconvert_exporter": "python",
   "pygments_lexer": "ipython3",
   "version": "3.7.9"
  }
 },
 "nbformat": 4,
 "nbformat_minor": 5
}
