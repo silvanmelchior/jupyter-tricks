{
 "cells": [
  {
   "cell_type": "code",
   "execution_count": null,
   "id": "edda35ee",
   "metadata": {},
   "outputs": [],
   "source": [
    "import ipywidgets as widgets"
   ]
  },
  {
   "cell_type": "markdown",
   "id": "e8e0df70",
   "metadata": {},
   "source": [
    "# Widget Types"
   ]
  },
  {
   "cell_type": "code",
   "execution_count": null,
   "id": "7b245ee6",
   "metadata": {},
   "outputs": [],
   "source": [
    "widgets.IntSlider()"
   ]
  },
  {
   "cell_type": "code",
   "execution_count": null,
   "id": "acf36567",
   "metadata": {},
   "outputs": [],
   "source": [
    "widgets.FloatSlider()"
   ]
  },
  {
   "cell_type": "code",
   "execution_count": null,
   "id": "efa0f875",
   "metadata": {},
   "outputs": [],
   "source": [
    "widgets.ToggleButton(description='Click me')"
   ]
  },
  {
   "cell_type": "code",
   "execution_count": null,
   "id": "4d5fdf2f",
   "metadata": {},
   "outputs": [],
   "source": [
    "widgets.Checkbox(description='Check me')"
   ]
  },
  {
   "cell_type": "code",
   "execution_count": null,
   "id": "daeebc48",
   "metadata": {},
   "outputs": [],
   "source": [
    "widgets.Dropdown(options=['1', '2', '3'])"
   ]
  },
  {
   "cell_type": "code",
   "execution_count": null,
   "id": "95e2544f",
   "metadata": {},
   "outputs": [],
   "source": [
    "widgets.Text()"
   ]
  },
  {
   "cell_type": "markdown",
   "id": "226171e3",
   "metadata": {},
   "source": [
    "# Using _interact_"
   ]
  },
  {
   "cell_type": "code",
   "execution_count": null,
   "id": "875ad860",
   "metadata": {},
   "outputs": [],
   "source": [
    "from ipywidgets import interact"
   ]
  },
  {
   "cell_type": "code",
   "execution_count": null,
   "id": "0328b54f",
   "metadata": {},
   "outputs": [],
   "source": [
    "@interact\n",
    "def h(x=1.0):\n",
    "    return f\"x is {x}\""
   ]
  },
  {
   "cell_type": "markdown",
   "id": "3ba3be01",
   "metadata": {},
   "source": [
    "# Matplotlib"
   ]
  },
  {
   "cell_type": "code",
   "execution_count": null,
   "id": "5a1591c8",
   "metadata": {},
   "outputs": [],
   "source": [
    "import numpy as np\n",
    "import matplotlib.pyplot as plt"
   ]
  },
  {
   "cell_type": "code",
   "execution_count": null,
   "id": "b5b179d9",
   "metadata": {},
   "outputs": [],
   "source": [
    "@interact\n",
    "def h(sel=['sin', 'cos']):\n",
    "    x_data = np.linspace(0, 2*np.pi, 200)\n",
    "    if sel == 'sin':\n",
    "        plt.plot(x_data, np.sin(x_data))\n",
    "    else:\n",
    "        plt.plot(x_data, np.cos(x_data))\n",
    "    plt.grid()\n",
    "    plt.show()"
   ]
  },
  {
   "cell_type": "code",
   "execution_count": null,
   "id": "c3d16531",
   "metadata": {},
   "outputs": [],
   "source": []
  }
 ],
 "metadata": {
  "kernelspec": {
   "display_name": "Python 3 (ipykernel)",
   "language": "python",
   "name": "python3"
  },
  "language_info": {
   "codemirror_mode": {
    "name": "ipython",
    "version": 3
   },
   "file_extension": ".py",
   "mimetype": "text/x-python",
   "name": "python",
   "nbconvert_exporter": "python",
   "pygments_lexer": "ipython3",
   "version": "3.7.9"
  }
 },
 "nbformat": 4,
 "nbformat_minor": 5
}
